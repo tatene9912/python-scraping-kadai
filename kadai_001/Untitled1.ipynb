{
  "nbformat": 4,
  "nbformat_minor": 0,
  "metadata": {
    "colab": {
      "provenance": []
    },
    "kernelspec": {
      "name": "python3",
      "display_name": "Python 3"
    },
    "language_info": {
      "name": "python"
    }
  },
  "cells": [
    {
      "cell_type": "code",
      "execution_count": 1,
      "metadata": {
        "colab": {
          "base_uri": "https://localhost:8080/"
        },
        "id": "oY998rYzXmPQ",
        "outputId": "90fc59d4-30ed-4c2a-941e-997b21e4827f"
      },
      "outputs": [
        {
          "output_type": "stream",
          "name": "stdout",
          "text": [
            "Requirement already satisfied: requests in /usr/local/lib/python3.10/dist-packages (2.32.3)\n",
            "Requirement already satisfied: beautifulsoup4 in /usr/local/lib/python3.10/dist-packages (4.12.3)\n",
            "Requirement already satisfied: charset-normalizer<4,>=2 in /usr/local/lib/python3.10/dist-packages (from requests) (3.4.0)\n",
            "Requirement already satisfied: idna<4,>=2.5 in /usr/local/lib/python3.10/dist-packages (from requests) (3.10)\n",
            "Requirement already satisfied: urllib3<3,>=1.21.1 in /usr/local/lib/python3.10/dist-packages (from requests) (2.2.3)\n",
            "Requirement already satisfied: certifi>=2017.4.17 in /usr/local/lib/python3.10/dist-packages (from requests) (2024.8.30)\n",
            "Requirement already satisfied: soupsieve>1.2 in /usr/local/lib/python3.10/dist-packages (from beautifulsoup4) (2.6)\n"
          ]
        }
      ],
      "source": [
        "!pip install requests beautifulsoup4\n"
      ]
    },
    {
      "cell_type": "code",
      "source": [
        "import requests\n",
        "from bs4 import BeautifulSoup\n",
        "\n",
        "url = 'https://news.yahoo.co.jp/articles/f7f8f8eb21657eec5a62ed45bd6155878b69d8b7'\n",
        "\n",
        "response = requests.get(url)\n",
        "soup = BeautifulSoup(response.text, 'html.parser')\n",
        "content_element = soup.select_one('#uamods > div.article_body.highLightSearchTarget > div:nth-child(1) > p')\n",
        "content_text = content_element.text\n",
        "\n",
        "print(content_text)"
      ],
      "metadata": {
        "colab": {
          "base_uri": "https://localhost:8080/"
        },
        "id": "hP0IQpsEX8FG",
        "outputId": "e387cd53-1c74-40e3-f380-3c93b50211c0"
      },
      "execution_count": 2,
      "outputs": [
        {
          "output_type": "stream",
          "name": "stdout",
          "text": [
            "　千葉県市原市のホテルで従業員の女性（５６）（市原市）が殺害され、ホテルから現金が奪われた事件で、元従業員の江川敦容疑者（４７）（同市）（強盗殺人の疑いで逮捕）が「（被害女性に）恋愛感情があった」という趣旨の供述をしていることが、捜査関係者への取材でわかった。県警は、江川容疑者が一方的に恋愛感情を募らせ、２人の間に何らかのトラブルがあったとみている。\n",
            "\n",
            "【写真】女性の遺体が見つかったホテル\n"
          ]
        }
      ]
    }
  ]
}