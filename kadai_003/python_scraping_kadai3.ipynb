{
  "nbformat": 4,
  "nbformat_minor": 0,
  "metadata": {
    "colab": {
      "provenance": []
    },
    "kernelspec": {
      "name": "python3",
      "display_name": "Python 3"
    },
    "language_info": {
      "name": "python"
    }
  },
  "cells": [
    {
      "cell_type": "code",
      "execution_count": 2,
      "metadata": {
        "colab": {
          "base_uri": "https://localhost:8080/"
        },
        "id": "rGo0GCjQadqm",
        "outputId": "2b5b00f0-2671-4660-90ef-d3ffc5f7f877"
      },
      "outputs": [
        {
          "output_type": "stream",
          "name": "stdout",
          "text": [
            "Collecting selenium\n",
            "  Downloading selenium-4.27.1-py3-none-any.whl.metadata (7.1 kB)\n",
            "Requirement already satisfied: urllib3<3,>=1.26 in /usr/local/lib/python3.10/dist-packages (from urllib3[socks]<3,>=1.26->selenium) (2.2.3)\n",
            "Collecting trio~=0.17 (from selenium)\n",
            "  Downloading trio-0.27.0-py3-none-any.whl.metadata (8.6 kB)\n",
            "Collecting trio-websocket~=0.9 (from selenium)\n",
            "  Downloading trio_websocket-0.11.1-py3-none-any.whl.metadata (4.7 kB)\n",
            "Requirement already satisfied: certifi>=2021.10.8 in /usr/local/lib/python3.10/dist-packages (from selenium) (2024.8.30)\n",
            "Requirement already satisfied: typing_extensions~=4.9 in /usr/local/lib/python3.10/dist-packages (from selenium) (4.12.2)\n",
            "Requirement already satisfied: websocket-client~=1.8 in /usr/local/lib/python3.10/dist-packages (from selenium) (1.8.0)\n",
            "Requirement already satisfied: attrs>=23.2.0 in /usr/local/lib/python3.10/dist-packages (from trio~=0.17->selenium) (24.2.0)\n",
            "Collecting sortedcontainers (from trio~=0.17->selenium)\n",
            "  Downloading sortedcontainers-2.4.0-py2.py3-none-any.whl.metadata (10 kB)\n",
            "Requirement already satisfied: idna in /usr/local/lib/python3.10/dist-packages (from trio~=0.17->selenium) (3.10)\n",
            "Collecting outcome (from trio~=0.17->selenium)\n",
            "  Downloading outcome-1.3.0.post0-py2.py3-none-any.whl.metadata (2.6 kB)\n",
            "Requirement already satisfied: sniffio>=1.3.0 in /usr/local/lib/python3.10/dist-packages (from trio~=0.17->selenium) (1.3.1)\n",
            "Requirement already satisfied: exceptiongroup in /usr/local/lib/python3.10/dist-packages (from trio~=0.17->selenium) (1.2.2)\n",
            "Collecting wsproto>=0.14 (from trio-websocket~=0.9->selenium)\n",
            "  Downloading wsproto-1.2.0-py3-none-any.whl.metadata (5.6 kB)\n",
            "Requirement already satisfied: pysocks!=1.5.7,<2.0,>=1.5.6 in /usr/local/lib/python3.10/dist-packages (from urllib3[socks]<3,>=1.26->selenium) (1.7.1)\n",
            "Requirement already satisfied: h11<1,>=0.9.0 in /usr/local/lib/python3.10/dist-packages (from wsproto>=0.14->trio-websocket~=0.9->selenium) (0.14.0)\n",
            "Downloading selenium-4.27.1-py3-none-any.whl (9.7 MB)\n",
            "\u001b[2K   \u001b[90m━━━━━━━━━━━━━━━━━━━━━━━━━━━━━━━━━━━━━━━━\u001b[0m \u001b[32m9.7/9.7 MB\u001b[0m \u001b[31m57.7 MB/s\u001b[0m eta \u001b[36m0:00:00\u001b[0m\n",
            "\u001b[?25hDownloading trio-0.27.0-py3-none-any.whl (481 kB)\n",
            "\u001b[2K   \u001b[90m━━━━━━━━━━━━━━━━━━━━━━━━━━━━━━━━━━━━━━━━\u001b[0m \u001b[32m481.7/481.7 kB\u001b[0m \u001b[31m26.2 MB/s\u001b[0m eta \u001b[36m0:00:00\u001b[0m\n",
            "\u001b[?25hDownloading trio_websocket-0.11.1-py3-none-any.whl (17 kB)\n",
            "Downloading wsproto-1.2.0-py3-none-any.whl (24 kB)\n",
            "Downloading outcome-1.3.0.post0-py2.py3-none-any.whl (10 kB)\n",
            "Downloading sortedcontainers-2.4.0-py2.py3-none-any.whl (29 kB)\n",
            "Installing collected packages: sortedcontainers, wsproto, outcome, trio, trio-websocket, selenium\n",
            "Successfully installed outcome-1.3.0.post0 selenium-4.27.1 sortedcontainers-2.4.0 trio-0.27.0 trio-websocket-0.11.1 wsproto-1.2.0\n"
          ]
        }
      ],
      "source": [
        "!pip install selenium\n"
      ]
    },
    {
      "source": [
        "from selenium import webdriver\n",
        "from selenium.webdriver.common.by import By\n",
        "from selenium.webdriver.support.ui import WebDriverWait\n",
        "from selenium.webdriver.support import expected_conditions as EC\n",
        "from getpass import getpass\n",
        "\n",
        "# ヘッドレスモードで起動するためのオプションを設定\n",
        "chrome_options = webdriver.ChromeOptions()\n",
        "chrome_options.add_argument('--headless')\n",
        "chrome_options.add_argument('--no-sandbox')\n",
        "chrome_options.add_argument('--disable-dev-shm-usage')\n",
        "\n",
        "# Chromeを立ち上げる\n",
        "chrome_driver = webdriver.Chrome(options=chrome_options)\n",
        "\n",
        "# TERAKOYAのトップページにアクセス\n",
        "chrome_driver.get('https://terakoya.sejuku.net/register')\n",
        "\n",
        "# 最大30秒間、ログインボタンが表示されるのを待つ\n",
        "wait = WebDriverWait(chrome_driver, 30)\n",
        "header_login_button = wait.until(\n",
        "    EC.visibility_of_element_located(\n",
        "        (By.CSS_SELECTOR,\n",
        "         '#root > header > div')\n",
        "    )\n",
        ")\n",
        "\n",
        "# ログインボタンをクリックする\n",
        "header_login_button.click()\n",
        "\n",
        "# 最大30秒間、ログインフォーム全体が表示されるのを待つ\n",
        "# 元のセレクターはヘッダーの要素をターゲットにしていたが、\n",
        "# ログインフォーム全体をターゲットに変更\n",
        "wait = WebDriverWait(chrome_driver, 30)\n",
        "login_form = wait.until(\n",
        "    EC.visibility_of_element_located(\n",
        "        (By.CSS_SELECTOR,\n",
        "         '#root > div.sc-khLCKb.tZnDg > div.sc-keTIit.buQVBz') # ログインフォーム全体をターゲットにする\n",
        "    )\n",
        ")\n",
        "\n",
        "# フォーム内のemailとpassword要素を取得\n",
        "email_input = login_form.find_element(By.NAME, 'email')\n",
        "password_input = login_form.find_element(By.NAME, 'password')\n",
        "\n",
        "email_address = input('メールアドレスを入力してください: ')\n",
        "password = getpass('パスワードを入力してください: ')\n",
        "\n",
        "email_input.send_keys(email_address)\n",
        "password_input.send_keys(password)\n",
        "\n",
        "# ログインボタンをクリック\n",
        "form_login_button = wait.until(\n",
        "    EC.visibility_of_element_located(\n",
        "        (By.CSS_SELECTOR,\n",
        "         '#root > div.sc-khLCKb.tZnDg > div.sc-keTIit.buQVBz > div.sc-cHqXqK.dKKBKh > button')\n",
        "    )\n",
        ")\n",
        "\n",
        "form_login_button.click()\n",
        "\n",
        "# ログイン後、要素が読み込まれるまで待つ\n",
        "wait.until(EC.visibility_of_element_located((By.CSS_SELECTOR, 'nav > img ')))\n",
        "\n",
        "# TERAKOYAのアカウント設定ページにアクセス\n",
        "chrome_driver.get('https://terakoya.sejuku.net/account/profile')\n",
        "\n",
        "# 最大30秒間、編集ボタンが表示されるのを待つ\n",
        "wait = WebDriverWait(chrome_driver, 30)\n",
        "change_button = wait.until(\n",
        "    EC.visibility_of_element_located(\n",
        "        (By.CSS_SELECTOR,\n",
        "         '#root > div.sc-fyvmDH.jORjGq > div > div > main > div > div.sc-gPxNEv.fnJAkY > button')\n",
        "    )\n",
        ")\n",
        "\n",
        "# 編集ボタンをクリックする\n",
        "change_button.click()\n",
        "\n",
        "# 編集フォーム全体をターゲットに変更\n",
        "wait = WebDriverWait(chrome_driver, 30)\n",
        "login_form = wait.until(\n",
        "    EC.visibility_of_element_located(\n",
        "        (By.CSS_SELECTOR,\n",
        "         '#root > div.sc-fyvmDH.jORjGq > div > div > main > div')\n",
        "    )\n",
        ")\n",
        "\n",
        "# フォーム内のemailとpassword要素を取得\n",
        "content_input = login_form.find_element(\n",
        "    By.CSS_SELECTOR, '#root > div.sc-fyvmDH.jORjGq > div > div > main > div > div.sc-gPxNEv.fnJAkY > div:nth-child(10) > div.sc-hvVOYv.lcsXeR > textarea'\n",
        "    )\n",
        "\n",
        "content = 'プログラミング学習中です！今はスクレイピングに挑戦しています！'\n",
        "\n",
        "content_input.send_keys(content)\n",
        "\n",
        "# 更新ボタンをクリック\n",
        "update_button = wait.until(\n",
        "    EC.visibility_of_element_located(\n",
        "        (By.CSS_SELECTOR,\n",
        "         '#root > div.sc-fyvmDH.jORjGq > div > div > main > div > div.sc-gPxNEv.fnJAkY > button.sc-dntaoT.kyNRci.sc-iLZavr.gIOUS')\n",
        "    )\n",
        ")\n",
        "\n",
        "update_button.click()\n",
        "wait.until(EC.visibility_of_element_located((By.CSS_SELECTOR,\n",
        "         '#root > div.sc-fyvmDH.jORjGq > div > div > main > div > div.sc-gPxNEv.fnJAkY > button')\n",
        "))\n",
        "\n",
        "# スクリーンショットを撮る\n",
        "chrome_driver.save_screenshot('screenshot.png')\n",
        "\n",
        "chrome_driver.quit()"
      ],
      "cell_type": "code",
      "metadata": {
        "colab": {
          "base_uri": "https://localhost:8080/"
        },
        "id": "z0K5ixojb2X5",
        "outputId": "c66dc72f-8b0f-4e7c-f067-cc3a595fe69e"
      },
      "execution_count": 16,
      "outputs": [
        {
          "name": "stdout",
          "output_type": "stream",
          "text": [
            "メールアドレスを入力してください: t.atene0l4o1v2e@gmail.com\n",
            "パスワードを入力してください: ··········\n"
          ]
        }
      ]
    }
  ]
}